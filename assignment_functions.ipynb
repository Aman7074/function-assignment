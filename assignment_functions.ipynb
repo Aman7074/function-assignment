{
  "nbformat": 4,
  "nbformat_minor": 0,
  "metadata": {
    "colab": {
      "provenance": []
    },
    "kernelspec": {
      "name": "python3",
      "display_name": "Python 3"
    },
    "language_info": {
      "name": "python"
    }
  },
  "cells": [
    {
      "cell_type": "markdown",
      "source": [
        " #                 THEORY QUESTIONS"
      ],
      "metadata": {
        "id": "Dzu4_ty4QzZo"
      }
    },
    {
      "cell_type": "markdown",
      "source": [
        "Qn 1 - What is the difference between a function and a method in Python?\n",
        "\n",
        "Ans  -\n",
        " # DIFFRENCE BETWEEN FUNCTION AND METHOD\n",
        "\n",
        "\n",
        "#FUNCTION :-  \n",
        "A function is a reusable block of code that performs a specific task. Functions help in organizing code, improving readability, and reducing repetition. function is defined using the 'def' keyword, followed by a name, parentheses, and a colon.\n",
        "\n",
        "example is given below"
      ],
      "metadata": {
        "id": "S1pT9VgWQ1c4"
      }
    },
    {
      "cell_type": "code",
      "source": [
        "# EXAMPLE OF FUNCTION :-\n",
        "\n",
        "\n",
        "def greet():\n",
        "    print(\"Hello AMAN \")\n",
        "\n",
        "greet()\n"
      ],
      "metadata": {
        "colab": {
          "base_uri": "https://localhost:8080/"
        },
        "id": "2ypyX3GFTFtY",
        "outputId": "c97a0435-0464-4a5a-d227-eaab62937fef"
      },
      "execution_count": null,
      "outputs": [
        {
          "output_type": "stream",
          "name": "stdout",
          "text": [
            "Hello AMAN \n"
          ]
        }
      ]
    },
    {
      "cell_type": "markdown",
      "source": [
        "# METHOD :-\n",
        " A method is a function that belongs to a class and works with objects. It is used to perform actions on an object or get its information. Methods operate on instances of a class and can modify the object’s state or perform specific actions.\n",
        "\n",
        "Example is given below -"
      ],
      "metadata": {
        "id": "H_hRK5XAUFSI"
      }
    },
    {
      "cell_type": "code",
      "source": [
        "class Aman:\n",
        "\n",
        " def __init__(self, name):\n",
        " self.name = name\n",
        "\n",
        "   def walk(self):\n",
        "return f\"{self.name} is walking!\"\n",
        "\n",
        "  aman1 = Aman(\"Aman\")\n",
        "  print(aman1.walk())\n"
      ],
      "metadata": {
        "colab": {
          "base_uri": "https://localhost:8080/"
        },
        "id": "5fs4hViXWRUh",
        "outputId": "f1ce7549-5a9a-43af-dfd0-b67a330e8d4c"
      },
      "execution_count": null,
      "outputs": [
        {
          "output_type": "stream",
          "name": "stdout",
          "text": [
            "Aman is walking!\n"
          ]
        }
      ]
    },
    {
      "cell_type": "markdown",
      "source": [],
      "metadata": {
        "id": "cVqGDzw1Z1Pp"
      }
    },
    {
      "cell_type": "markdown",
      "source": [],
      "metadata": {
        "id": "P5uw1k9sZ06I"
      }
    },
    {
      "cell_type": "markdown",
      "source": [
        "Qn 2 - Explain the concept of function arguments and parameters in Python.\n",
        "\n",
        "Ans -\n",
        "# FUNCTION ARGUMENTS:-\n",
        " A function argument is the actual value passed to a function when it is called. Arguments provide input to the function to perform operations\n",
        "\n",
        "\n",
        "\n",
        " # PARAMETERS:-\n",
        "  A parameter is a variable inside a function definition that acts as a placeholder for values (arguments) that will be passed when calling the function."
      ],
      "metadata": {
        "id": "SwsOilBRXyLH"
      }
    },
    {
      "cell_type": "code",
      "source": [
        "def greet(name):\n",
        "    print(f\"LET'S GO, {name}\")\n",
        "\n",
        "greet(\"AMAN\")\n",
        "greet(\"SUNIL\")\n",
        "greet(\"ARUN\")\n"
      ],
      "metadata": {
        "colab": {
          "base_uri": "https://localhost:8080/"
        },
        "id": "Ln4yeGG0Z632",
        "outputId": "b628aa93-82ff-4ebd-e718-a6d8f04e6eac"
      },
      "execution_count": 9,
      "outputs": [
        {
          "output_type": "stream",
          "name": "stdout",
          "text": [
            "LET'S GO, AMAN\n",
            "LET'S GO, SUNIL\n",
            "LET'S GO, ARUN\n"
          ]
        }
      ]
    },
    {
      "cell_type": "markdown",
      "source": [
        "Qn 3 - What are the different ways to define and call a function in Python?\n",
        "\n",
        "Ans - There are multiple ways to define and call functions in Python-\n",
        "\n",
        "1: Regular Function (With Parameters)- A function is defined using the def keyword, followed by a function name and parameters (if required)."
      ],
      "metadata": {
        "id": "zJhERRcSaou2"
      }
    },
    {
      "cell_type": "code",
      "source": [
        "def add(a, b):\n",
        "return a + b\n",
        "\n",
        "  result = add(3, 5)\n",
        "  print(result)\n"
      ],
      "metadata": {
        "colab": {
          "base_uri": "https://localhost:8080/"
        },
        "id": "cit8HsXudlWz",
        "outputId": "d99e2387-077c-4f60-b73b-e43ae667516f"
      },
      "execution_count": 10,
      "outputs": [
        {
          "output_type": "stream",
          "name": "stdout",
          "text": [
            "8\n"
          ]
        }
      ]
    },
    {
      "cell_type": "markdown",
      "source": [],
      "metadata": {
        "id": "obRsP44jd49R"
      }
    },
    {
      "cell_type": "markdown",
      "source": [
        "2: Function with Default Arguments\n",
        "Definition- A function can have default values for parameters. If no argument is passed, the default value is used."
      ],
      "metadata": {
        "id": "Ob7hCE_kd4_D"
      }
    },
    {
      "cell_type": "code",
      "source": [
        "def greet(name=\"Guest\"):\n",
        "print(f\"Hello, {name}!\")\n",
        "\n",
        "greet()\n",
        "greet(\"Aman\")\n"
      ],
      "metadata": {
        "colab": {
          "base_uri": "https://localhost:8080/"
        },
        "id": "b8eKBkTteIf0",
        "outputId": "a151190e-7265-4325-ef92-25bb6911d174"
      },
      "execution_count": null,
      "outputs": [
        {
          "output_type": "stream",
          "name": "stdout",
          "text": [
            "Hello, Guest!\n",
            "Hello, Aman!\n"
          ]
        }
      ]
    },
    {
      "cell_type": "markdown",
      "source": [
        "3: Function with Keyword Arguments\n",
        "Definition - Arguments can be passed using the parameter names, allowing flexibility in the order of passing values."
      ],
      "metadata": {
        "id": "a91rLmQQe5go"
      }
    },
    {
      "cell_type": "code",
      "source": [
        "def introduce(name, age):\n",
        " print(f\"My name is {name} and I am {age} years old.\")\n",
        "\n",
        "introduce(age=25, name=\"Aman\")"
      ],
      "metadata": {
        "colab": {
          "base_uri": "https://localhost:8080/"
        },
        "id": "VpyzQMEmfUns",
        "outputId": "0d2e2b4f-9785-45fc-ea1e-c5a89fdc4770"
      },
      "execution_count": 18,
      "outputs": [
        {
          "output_type": "stream",
          "name": "stdout",
          "text": [
            "My name is Aman and I am 25 years old.\n"
          ]
        }
      ]
    },
    {
      "cell_type": "markdown",
      "source": [
        "4: Nested Functions (Function Inside Another Function) - A function can be defined inside another function. This is useful when a function should not be accessed outside its scope."
      ],
      "metadata": {
        "id": "UvyjvEgNfo_O"
      }
    },
    {
      "cell_type": "code",
      "source": [
        "def outer_function():\n",
        "    def inner_function():\n",
        "        print(\"Hello from inner function!\")\n",
        "    inner_function()\n",
        "\n",
        "outer_function()"
      ],
      "metadata": {
        "colab": {
          "base_uri": "https://localhost:8080/"
        },
        "id": "tUYdOBqVgz4_",
        "outputId": "9b7e5f74-a08e-4483-d459-b844bbce75c9"
      },
      "execution_count": 36,
      "outputs": [
        {
          "output_type": "stream",
          "name": "stdout",
          "text": [
            "Hello from inner function!\n"
          ]
        }
      ]
    },
    {
      "cell_type": "markdown",
      "source": [
        "5: Function Returning Another Function - A function can return another function as a result."
      ],
      "metadata": {
        "id": "9zBocPomhDDi"
      }
    },
    {
      "cell_type": "markdown",
      "source": [],
      "metadata": {
        "id": "i45FWYeHhnF7"
      }
    },
    {
      "cell_type": "code",
      "source": [
        "def outer_function():\n",
        "    def inner_function():\n",
        "\n",
        "     return \"Hello from inner function!\"\n",
        "    return inner_function\n",
        "\n",
        "func = outer_function()\n",
        "print(func())"
      ],
      "metadata": {
        "colab": {
          "base_uri": "https://localhost:8080/"
        },
        "id": "jjmMJ86YhJXC",
        "outputId": "d0edebdb-e3e8-493f-cad8-4df15c3474d0"
      },
      "execution_count": 41,
      "outputs": [
        {
          "output_type": "stream",
          "name": "stdout",
          "text": [
            "Hello from inner function!\n"
          ]
        }
      ]
    },
    {
      "cell_type": "markdown",
      "source": [
        "6: Function as an Argument to Another Function - A function can be passed as an argument to another function."
      ],
      "metadata": {
        "id": "k5EzMOnliDUI"
      }
    },
    {
      "cell_type": "code",
      "source": [
        "def greet(name):\n",
        "    return f\"Hello, {name}!\"\n",
        "\n",
        "def display_message(func):\n",
        "    print(func(\"Alice\"))\n",
        "\n",
        "display_message(greet)"
      ],
      "metadata": {
        "colab": {
          "base_uri": "https://localhost:8080/"
        },
        "id": "ieDy5qlmiKId",
        "outputId": "ad3af14f-e11d-41fb-d7a1-e27e41b1d5c3"
      },
      "execution_count": null,
      "outputs": [
        {
          "output_type": "stream",
          "name": "stdout",
          "text": [
            "Hello, Alice!\n"
          ]
        }
      ]
    },
    {
      "cell_type": "markdown",
      "source": [
        "Qn 4- What is the purpose of the `return` statement in a Python function?\n",
        "\n",
        "Ans -  The return statement in a Python function serves the following purposes:-\n",
        "\n",
        "Returns a Value :- It sends a value back to the caller, allowing the function to produce a result.\n",
        "\n",
        "Ends Function Execution :- Once return is encountered, the function stops executing further code.\n",
        "\n",
        "Supports Reusability :- The returned value can be used in other parts of the program.\n",
        "\n",
        "example is given below -\n"
      ],
      "metadata": {
        "id": "m2xV0cHAqpZX"
      }
    },
    {
      "cell_type": "code",
      "source": [
        "def square(num):\n",
        "    return num * num  # Returns the squared value\n",
        "\n",
        "result = square(4)\n",
        "print(result)"
      ],
      "metadata": {
        "colab": {
          "base_uri": "https://localhost:8080/"
        },
        "id": "G9WjcOeIr_hZ",
        "outputId": "4751c190-9ccc-4872-fb20-3c740cc4d7a9"
      },
      "execution_count": null,
      "outputs": [
        {
          "output_type": "stream",
          "name": "stdout",
          "text": [
            "16\n"
          ]
        }
      ]
    },
    {
      "cell_type": "markdown",
      "source": [
        "Qn 5- What are iterators in Python and how do they differ from iterables?\n",
        "\n",
        "Ans -      \n",
        "# diffrence between iterable and iterator\n",
        "\n",
        " # Iterable :-\n",
        "  An object that can be looped over ( lists, tuples, strings). It has an __iter__() method that returns an iterator.\n",
        "\n",
        "# Iterator :-\n",
        " An object that produces values one at a time using the __next__() method. It remembers its position and does not store all values in memory.\n",
        "\n",
        "example is given below -"
      ],
      "metadata": {
        "id": "smbacuGcsiOd"
      }
    },
    {
      "cell_type": "code",
      "source": [
        "my_list = [1, 2, 3]  # Iterable\n",
        "my_iterator = iter(my_list)  # Convert iterable to iterator\n",
        "\n",
        "print(next(my_iterator))\n",
        "print(next(my_iterator))\n",
        "print(next(my_iterator))"
      ],
      "metadata": {
        "colab": {
          "base_uri": "https://localhost:8080/"
        },
        "id": "Q8E-YoxaumwK",
        "outputId": "203ee6e5-5ceb-4389-b529-d68200928ab7"
      },
      "execution_count": null,
      "outputs": [
        {
          "output_type": "stream",
          "name": "stdout",
          "text": [
            "1\n",
            "2\n",
            "3\n"
          ]
        }
      ]
    },
    {
      "cell_type": "markdown",
      "source": [
        "Qn 6- Explain the concept of generators in Python and how they are defined?\n",
        "\n",
        "Ans- A generator is a special type of function in Python that yields values one at a time instead of returning them all at once. It allows for efficient memory usage by generating values on demand.\n",
        "Generators are defined like normal functions but use the 'yield' keyword instead of return."
      ],
      "metadata": {
        "id": "wle4tRV4vJIz"
      }
    },
    {
      "cell_type": "code",
      "source": [
        "def count_up_to(n):\n",
        "\n",
        " count = 0\n",
        " while count <= n:\n",
        "\n",
        "      yield count\n",
        "      count += 1\n",
        "\n",
        "gen = count_up_to(5)\n",
        "print(next(gen))\n",
        "print(next(gen))"
      ],
      "metadata": {
        "colab": {
          "base_uri": "https://localhost:8080/"
        },
        "id": "LTbqAUgfwdpa",
        "outputId": "8cc7832d-a777-4faf-8da0-3940a22a2b0d"
      },
      "execution_count": 58,
      "outputs": [
        {
          "output_type": "stream",
          "name": "stdout",
          "text": [
            "0\n",
            "1\n"
          ]
        }
      ]
    },
    {
      "cell_type": "markdown",
      "source": [
        "Qn 7- What are the advantages of using generators over regular functions?\n",
        "\n",
        "Ans - some advantages of using generators over regular functions :-\n",
        "\n",
        "1- Memory Efficient - Generators yield one value at a time instead of storing everything in memory.\n",
        "\n",
        "2- Faster Execution - No need to create and store large lists before using them.\n",
        "\n",
        "3- State Retention - Generators remember where they left off, so they resume execution instead of restarting.\n",
        "\n",
        "4- Infinite Sequences - Can generate values indefinitely without memory overflow.\n"
      ],
      "metadata": {
        "id": "CjdWVMhexEbG"
      }
    },
    {
      "cell_type": "code",
      "source": [
        "def count_up_to(n):\n",
        " for i in range(1, n+1):\n",
        "  yield i\n",
        "gen = count_up_to(3)\n",
        " print(next(gen))\n",
        "  print(next(gen))"
      ],
      "metadata": {
        "colab": {
          "base_uri": "https://localhost:8080/"
        },
        "id": "WhTMle-yzmyQ",
        "outputId": "0f894396-a7b5-4160-82c8-8f141e3d9b8e"
      },
      "execution_count": null,
      "outputs": [
        {
          "output_type": "stream",
          "name": "stdout",
          "text": [
            "1\n",
            "2\n"
          ]
        }
      ]
    },
    {
      "cell_type": "markdown",
      "source": [
        "Qn 8- What is a lambda function in Python and when is it typically used?\n",
        "\n",
        "Ans- A lambda function is a small, anonymous function defined using the 'lambda' keyword. It can have multiple arguments but only one expression, which is automatically returned.\n",
        "It is used-\n",
        "1- For short, simple functions - When a function is needed temporarily.\n",
        "\n",
        "2- With map(), filter(), and sorted() - Common in functional programming.\n",
        "\n",
        "3- As an argument in higher-order functions - Avoids defining a separate function."
      ],
      "metadata": {
        "id": "Gq72qNFA05Bg"
      }
    },
    {
      "cell_type": "code",
      "source": [
        "numbers = [1, 2, 3, 4, 5]\n",
        "even_numbers = list(filter(lambda x: x % 2 == 0, numbers))\n",
        "print(even_numbers)\n"
      ],
      "metadata": {
        "colab": {
          "base_uri": "https://localhost:8080/"
        },
        "id": "20kEcWGN4nkT",
        "outputId": "1e507995-e5ca-4b40-e901-fc0e6207489f"
      },
      "execution_count": null,
      "outputs": [
        {
          "output_type": "stream",
          "name": "stdout",
          "text": [
            "[2, 4]\n"
          ]
        }
      ]
    },
    {
      "cell_type": "markdown",
      "source": [
        "Qn 9- Explain the purpose and usage of the `map()` function in Python.\n",
        "\n",
        "Ans- map() is useful for applying functions efficiently without writing loops and makes code shorter and more readable. It improves performance by avoiding explicit loops."
      ],
      "metadata": {
        "id": "ny353_VI4yfv"
      }
    },
    {
      "cell_type": "code",
      "source": [
        "numbers = [5, 7, 9, 11]\n",
        "square  = list(map(lambda x: x**2, numbers))\n",
        "print(square)"
      ],
      "metadata": {
        "colab": {
          "base_uri": "https://localhost:8080/"
        },
        "id": "Ul6YOYX36RG-",
        "outputId": "af37671f-88c2-406a-a735-b1412f099c1d"
      },
      "execution_count": null,
      "outputs": [
        {
          "output_type": "stream",
          "name": "stdout",
          "text": [
            "[25, 49, 81, 121]\n"
          ]
        }
      ]
    },
    {
      "cell_type": "markdown",
      "source": [
        "Qn 10- What is the difference between `map()`, `reduce()`, and `filter()` functions in Python?\n",
        "\n",
        "Ans-\n",
        "#Difference Between map(), reduce(), and filter() in Python:-\n",
        "These functions are part of functional programming in Python and are used to process iterables efficiently.\n",
        "\n",
        "#map() Transformation Function\n",
        "Purpose:-\n",
        " Applies a given function to each element of an iterable.\n",
        "\n",
        "Returns:- A new iterable with modified elements.\n",
        "\n",
        "#filter() Filtering Function\n",
        "Purpose:-\n",
        " Filters elements of an iterable based on a condition (returns only True values).\n",
        "\n",
        "Returns:- A new iterable with elements that satisfy the condition.\n",
        "\n",
        "#reduce() - Reduction Function\n",
        "Purpose:-\n",
        "Applies a function cumulatively to the elements of an iterable to reduce them to a single value.\n",
        "\n",
        "Returns:- A single computed result (not a list).\n",
        "\n",
        "Requires:- functools.reduce() from the functools module."
      ],
      "metadata": {
        "id": "3cK7V9EI7HgI"
      }
    },
    {
      "cell_type": "code",
      "source": [
        "# example of mapa() function\n",
        "numbers = [1, 2, 3, 4]\n",
        "square = list(map(lambda x: x**2, numbers))\n",
        "print(square)\n",
        "\n",
        "\n",
        "# example of filter() function\n",
        "\n",
        "numbers = [1, 2, 3, 4, 5, 6]\n",
        "evens = list(filter(lambda x: x % 2 == 0, numbers))\n",
        "print(evens)\n",
        "\n",
        "\n",
        "# example of reduce() function\n",
        "\n",
        "from functools import reduce\n",
        "numbers = [1, 2, 3, 4]\n",
        "total = reduce(lambda x, y: x + y, numbers)\n",
        "print(total)"
      ],
      "metadata": {
        "colab": {
          "base_uri": "https://localhost:8080/"
        },
        "id": "iW87xFCw-STR",
        "outputId": "9389a60c-1e68-4f25-bbbc-484c94b7f8bf"
      },
      "execution_count": null,
      "outputs": [
        {
          "output_type": "stream",
          "name": "stdout",
          "text": [
            "[1, 4, 9, 16]\n",
            "[2, 4, 6]\n"
          ]
        }
      ]
    },
    {
      "cell_type": "markdown",
      "source": [
        "## Practical Questions"
      ],
      "metadata": {
        "id": "81JHG6aIVWLM"
      }
    },
    {
      "cell_type": "markdown",
      "source": [
        "Qn 1- Write a Python function that takes a list of numbers as input and returns the sum of all even numbers in\n",
        "the list.\n"
      ],
      "metadata": {
        "id": "WMvgn8AgV2-K"
      }
    },
    {
      "cell_type": "code",
      "source": [
        "# Answer\n",
        "\n",
        "def sum_of_evens(numbers):\n",
        "\n",
        "    return sum(num for num in numbers if num % 2 == 0)\n",
        "\n",
        "numbers = [1, 2, 3, 4, 5, 6, 7, 8, 9, 10]\n",
        "print(sum_of_evens(numbers))"
      ],
      "metadata": {
        "colab": {
          "base_uri": "https://localhost:8080/"
        },
        "id": "YuTz09ZuWChb",
        "outputId": "e17f8b8f-895f-412f-81d6-65918def7337"
      },
      "execution_count": 60,
      "outputs": [
        {
          "output_type": "stream",
          "name": "stdout",
          "text": [
            "30\n"
          ]
        }
      ]
    },
    {
      "cell_type": "markdown",
      "source": [
        "Qn 2- Create a Python function that accepts a string and returns the reverse of that string."
      ],
      "metadata": {
        "id": "bEWLeXt5WYko"
      }
    },
    {
      "cell_type": "code",
      "source": [
        "# Answer\n",
        "\n",
        "def reverse_string(s):\n",
        " return s[::-1]\n",
        "\n",
        "text = \"hello Aman\"\n",
        "print(reverse_string(text))"
      ],
      "metadata": {
        "colab": {
          "base_uri": "https://localhost:8080/"
        },
        "id": "5afdPdqAWznP",
        "outputId": "a3a6c9fb-d467-4409-c9f3-a18357f14698"
      },
      "execution_count": 62,
      "outputs": [
        {
          "output_type": "stream",
          "name": "stdout",
          "text": [
            "namA olleh\n"
          ]
        }
      ]
    },
    {
      "cell_type": "markdown",
      "source": [
        "Qn 3- Implement a Python function that takes a list of integers and returns a new list containing the squares of\n",
        "each number.\n"
      ],
      "metadata": {
        "id": "G8t6METNXkP6"
      }
    },
    {
      "cell_type": "code",
      "source": [
        "def square_numbers(numbers):\n",
        "   return [num ** 2 for num in numbers]\n",
        "nums = [1, 2, 3, 4, 5]\n",
        "print(square_numbers(nums))"
      ],
      "metadata": {
        "colab": {
          "base_uri": "https://localhost:8080/"
        },
        "id": "qEtnpMRbenGD",
        "outputId": "77a1218b-10b0-4454-a13f-8beb254e0b75"
      },
      "execution_count": 63,
      "outputs": [
        {
          "output_type": "stream",
          "name": "stdout",
          "text": [
            "[1, 4, 9, 16, 25]\n"
          ]
        }
      ]
    },
    {
      "cell_type": "markdown",
      "source": [
        "Qn 4- Write a Python function that checks if a given number is prime or not from 1 to 200\n"
      ],
      "metadata": {
        "id": "fTAOXbCvxPgb"
      }
    },
    {
      "cell_type": "code",
      "source": [
        "# Answer 4\n",
        "\n",
        "def is_prime(n):\n",
        "    if n < 2 or n > 200:\n",
        "        return False\n",
        "\n",
        "    for i in range(2, int(n ** 0.5) + 1):\n",
        "        if n % i == 0:\n",
        "            return False\n",
        "    return True\n",
        "\n",
        "num = int(input(\"Enter a number between 1 and 200: \"))\n",
        "if is_prime(num):\n",
        "    print(f\"{num} is a prime number.\")\n",
        "else:\n",
        "    print(f\"{num} is not a prime number.\")\n"
      ],
      "metadata": {
        "colab": {
          "base_uri": "https://localhost:8080/"
        },
        "id": "N2RmE6Aoy8XI",
        "outputId": "251b58d5-930e-4a93-91c9-9b44598a40b6"
      },
      "execution_count": 73,
      "outputs": [
        {
          "output_type": "stream",
          "name": "stdout",
          "text": [
            "Enter a number between 1 and 200: 5\n",
            "5 is a prime number.\n"
          ]
        }
      ]
    },
    {
      "cell_type": "markdown",
      "source": [
        "Qn 5:- Create an iterator class in Python that generates the Fibonacci sequence up to a specified number of\n",
        "terms.\n"
      ],
      "metadata": {
        "id": "1QJzOo3n0RXB"
      }
    },
    {
      "cell_type": "code",
      "source": [
        "# Answer 5:-\n",
        "\n",
        "class FibonacciIterator:\n",
        "    def __init__(self, num_terms):\n",
        "        self.num_terms = num_terms\n",
        "        self.a, self.b = 0, 1\n",
        "        self.count = 0\n",
        "\n",
        "    def __iter__(self):\n",
        "        return self\n",
        "\n",
        "    def __next__(self):\n",
        "        if self.count >= self.num_terms:\n",
        "            raise StopIteration\n",
        "\n",
        "        result = self.a\n",
        "        self.a, self.b = self.b, self.a + self.b\n",
        "        self.count += 1\n",
        "        return result\n",
        "\n",
        "n = int(input(\"Enter the number of terms: \"))\n",
        "fib_iterator = FibonacciIterator(n)\n",
        "for num in fib_iterator:\n",
        "    print(num, end=\" \")\n"
      ],
      "metadata": {
        "colab": {
          "base_uri": "https://localhost:8080/"
        },
        "id": "S1DkKpX903YB",
        "outputId": "ca112e8a-1a09-4a8c-e081-3228450f2b9e"
      },
      "execution_count": 82,
      "outputs": [
        {
          "output_type": "stream",
          "name": "stdout",
          "text": [
            "Enter the number of terms: 5\n",
            "0 1 1 2 3 "
          ]
        }
      ]
    },
    {
      "cell_type": "markdown",
      "source": [
        "Qn 6- Write a generator function in Python that yields the powers of 2 up to a given exponent.\n"
      ],
      "metadata": {
        "id": "1vDc2Imw40sA"
      }
    },
    {
      "cell_type": "code",
      "source": [
        "def powers_of_two(max_exponent):\n",
        "    for exponent in range(max_exponent + 1):\n",
        "        yield 2 ** exponent\n",
        "\n",
        "for power in powers_of_two(4):\n",
        "    print(power)"
      ],
      "metadata": {
        "colab": {
          "base_uri": "https://localhost:8080/"
        },
        "id": "5TbapwWD5SPZ",
        "outputId": "198303cf-16b6-4a0d-8f4e-4ce1ddc04ac7"
      },
      "execution_count": 84,
      "outputs": [
        {
          "output_type": "stream",
          "name": "stdout",
          "text": [
            "1\n",
            "2\n",
            "4\n",
            "8\n",
            "16\n"
          ]
        }
      ]
    },
    {
      "cell_type": "markdown",
      "source": [
        "Qn 7- Implement a generator function that reads a file line by line and yields each line as a string.\n"
      ],
      "metadata": {
        "id": "QtROO5lauNwK"
      }
    },
    {
      "cell_type": "code",
      "source": [
        "# Answer 7-\n",
        "\n",
        "def read_file_line_by_line(file_path):\n",
        "      with open(file_path, \"r\", encoding=\"utf-8\") as file:\n",
        "        for line in file:\n",
        "           yield line.rstrip(\"\\n\")"
      ],
      "metadata": {
        "id": "Z0mB3jU_uu3l"
      },
      "execution_count": 92,
      "outputs": []
    },
    {
      "cell_type": "markdown",
      "source": [
        "Qn 8- Use a lambda function in Python to sort a list of tuples based on the second element of each tuple.\n"
      ],
      "metadata": {
        "id": "uYJz3kbqwnbd"
      }
    },
    {
      "cell_type": "code",
      "source": [
        "# Answer 8-\n",
        "\n",
        "data = [(1, 3), (4, 1), (2, 5), (3, 2)]\n",
        "\n",
        "sorted_data = sorted(data, key=lambda x: x[1])\n",
        "\n",
        "print(sorted_data)"
      ],
      "metadata": {
        "colab": {
          "base_uri": "https://localhost:8080/"
        },
        "id": "MvGbTpyhzCp9",
        "outputId": "44e89af9-1391-4ae9-f4ce-83c201a32136"
      },
      "execution_count": null,
      "outputs": [
        {
          "output_type": "stream",
          "name": "stdout",
          "text": [
            "[(4, 1), (3, 2), (1, 3), (2, 5)]\n"
          ]
        }
      ]
    },
    {
      "cell_type": "markdown",
      "source": [
        "Qn 9- Write a Python program that uses `map()` to convert a list of temperatures from Celsius to Fahrenheit.\n"
      ],
      "metadata": {
        "id": "EZt05kPCzTVn"
      }
    },
    {
      "cell_type": "code",
      "source": [
        "#Answer 9-\n",
        "\n",
        "celsius_to_fahrenheit = lambda c: (c * 9/5) + 32\n",
        "\n",
        "#  in Celsius\n",
        "celsius_temperatures = [0, 20, 37, 100]\n",
        "\n",
        "fahrenheit_temperatures = list(map(celsius_to_fahrenheit, celsius_temperatures))\n",
        "\n",
        "print(fahrenheit_temperatures)"
      ],
      "metadata": {
        "colab": {
          "base_uri": "https://localhost:8080/"
        },
        "id": "Ld2XOeoazcMB",
        "outputId": "c44905ea-eaad-49ef-8f1d-420e466005ac"
      },
      "execution_count": 93,
      "outputs": [
        {
          "output_type": "stream",
          "name": "stdout",
          "text": [
            "[32.0, 68.0, 98.6, 212.0]\n"
          ]
        }
      ]
    },
    {
      "cell_type": "markdown",
      "source": [
        "Qn 10- Create a Python program that uses `filter()` to remove all the vowels from a given string."
      ],
      "metadata": {
        "id": "V6nhVF2N1hdN"
      }
    },
    {
      "cell_type": "code",
      "source": [
        "# Answer 10-\n",
        "\n",
        "is_not_vowel = lambda char: char.lower() not in \"aeiou\"\n",
        "\n",
        "input_string = \"HOW ARE YOU\"\n",
        "\n",
        "# filter()\n",
        "filtered_string = \"\".join(filter(is_not_vowel, input_string))\n",
        "\n",
        "print(filtered_string)"
      ],
      "metadata": {
        "colab": {
          "base_uri": "https://localhost:8080/"
        },
        "id": "xP9_i5MA2Uxm",
        "outputId": "2ba44475-0846-41b5-e665-d3817d6de8d1"
      },
      "execution_count": null,
      "outputs": [
        {
          "output_type": "stream",
          "name": "stdout",
          "text": [
            "HW R Y\n"
          ]
        }
      ]
    },
    {
      "cell_type": "markdown",
      "source": [
        "Qn 11- Imagine an accounting routine used in a book shop. It works on a list with sublists, which look like this:\n",
        "\n",
        "Write a Python program, which returns a list with 2-tuples. Each tuple consists of the order number and the\n",
        "product of the price per item and the quantity. The product should be increased by 10,- € if the value of the\n",
        "order is smaller than 100,00 €.\n",
        "\n",
        "Write a Python program using lambda and map.\n",
        "\n"
      ],
      "metadata": {
        "id": "d8hLtDY3KM0S"
      }
    },
    {
      "cell_type": "code",
      "source": [
        "orders = [\n",
        "    [34587, \"Learning Python, Mark Lutz\", 4, 40.95],\n",
        "    [98762, \"Programming Python, Mark Lutz\", 5, 56.80],\n",
        "    [77226, \"Head First Python, Paul Barry\", 3, 32.95],\n",
        "    [88112, \"Einführung in Python3, Bernd Klein\", 3, 24.99]\n",
        "]\n",
        "\n",
        "\n",
        "result = list(map(\n",
        "     lambda order: (\n",
        "      order[0],\n",
        "       round(order[2] * order[3] + (10 if order[2] * order[3] < 100 else 0), 2)\n",
        "    ),\n",
        "    orders\n",
        "))\n",
        "\n",
        "print(result)"
      ],
      "metadata": {
        "colab": {
          "base_uri": "https://localhost:8080/"
        },
        "id": "EDhbGB_cKsn5",
        "outputId": "40d9d8d1-75b5-4d1e-83a1-2e50dc270820"
      },
      "execution_count": 95,
      "outputs": [
        {
          "output_type": "stream",
          "name": "stdout",
          "text": [
            "[(34587, 163.8), (98762, 284.0), (77226, 108.85), (88112, 84.97)]\n"
          ]
        }
      ]
    }
  ]
}